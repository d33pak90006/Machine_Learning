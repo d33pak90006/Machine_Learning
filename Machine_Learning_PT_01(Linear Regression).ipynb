{
 "cells": [
  {
   "cell_type": "code",
   "execution_count": 18,
   "metadata": {},
   "outputs": [
    {
     "name": "stdout",
     "output_type": "stream",
     "text": [
      "0.7967084017934524\n"
     ]
    }
   ],
   "source": [
    "import quandl\n",
    "import pandas as pd\n",
    "import math\n",
    "import numpy as np\n",
    "from sklearn.model_selection import train_test_split\n",
    "from sklearn.linear_model import LinearRegression\n",
    "from sklearn import preprocessing\n",
    "\n",
    "df = quandl.get('WIKI/GOOGL')\n",
    "#print(df.head())\n",
    "\n",
    "df = df[['Open','High','Low','Close','Adj. Volume']]\n",
    "df['H_PTC'] = (df['High'] - df['Close'])/df['Close'] * 100\n",
    "df['PCT_change'] = (df['Close'] - df['Open']) * df['Open'] * 100\n",
    "\n",
    "\n",
    "df =df[['Open','Close','H_PTC','PCT_change','High','Low']]\n",
    "\n",
    "forcast_col = 'High'\n",
    "df.fillna(-99999,inplace=True)\n",
    "\n",
    "forcase_out = int(math.ceil(0.01 * len(df)))\n",
    "\n",
    "df['label'] = df[forcast_col].shift(-forcase_out)\n",
    "df.dropna(inplace=True)\n",
    "# print(df.head())\n",
    "\n",
    "X = np.array(df.drop(['label'],1))\n",
    "y = np.array(df['label'])\n",
    "\n",
    "X = preprocessing.scale(X)\n",
    "y = np.array(df['label'])\n",
    "\n",
    "X_train,X_test,y_train,y_test = train_test_split(X,y,test_size=0.2)\n",
    "\n",
    "clf = LinearRegression(n_jobs=-1)\n",
    "clf.fit(X_train,y_train)\n",
    "accuracy = clf.score(X_test,y_test)\n",
    "print(accuracy)"
   ]
  },
  {
   "cell_type": "code",
   "execution_count": null,
   "metadata": {},
   "outputs": [],
   "source": []
  },
  {
   "cell_type": "code",
   "execution_count": null,
   "metadata": {},
   "outputs": [],
   "source": []
  },
  {
   "cell_type": "code",
   "execution_count": null,
   "metadata": {},
   "outputs": [],
   "source": []
  },
  {
   "cell_type": "code",
   "execution_count": null,
   "metadata": {},
   "outputs": [],
   "source": []
  }
 ],
 "metadata": {
  "kernelspec": {
   "display_name": "Python 3",
   "language": "python",
   "name": "python3"
  },
  "language_info": {
   "codemirror_mode": {
    "name": "ipython",
    "version": 3
   },
   "file_extension": ".py",
   "mimetype": "text/x-python",
   "name": "python",
   "nbconvert_exporter": "python",
   "pygments_lexer": "ipython3",
   "version": "3.7.3"
  }
 },
 "nbformat": 4,
 "nbformat_minor": 2
}
