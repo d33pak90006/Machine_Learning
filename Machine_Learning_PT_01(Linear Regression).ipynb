{
 "cells": [
  {
   "cell_type": "code",
   "execution_count": 1,
   "metadata": {},
   "outputs": [
    {
     "name": "stdout",
     "output_type": "stream",
     "text": [
      "              Open    Close     H_PTC  PCT_change    High     Low\n",
      "Date                                                             \n",
      "2004-08-19  100.01  100.335  3.712563    3250.325  104.06   95.96\n",
      "2004-08-20  101.01  108.310  0.710922   73737.300  109.08  100.50\n",
      "2004-08-23  110.76  109.400  3.729433  -15063.360  113.48  109.05\n",
      "2004-08-24  111.24  104.870  6.417469  -70859.880  111.60  103.57\n",
      "2004-08-25  104.76  106.000  1.886792   12990.240  108.00  103.88\n"
     ]
    }
   ],
   "source": [
    "import quandl\n",
    "import pandas as pd\n",
    "\n",
    "df = quandl.get('WIKI/GOOGL')\n",
    "#print(df.head())\n",
    "\n",
    "df = df[['Open','High','Low','Close','Adj. Volume']]\n",
    "df['H_PTC'] = (df['High'] - df['Close'])/df['Close'] * 100\n",
    "df['PCT_change'] = (df['Close'] - df['Open']) * df['Open'] * 100\n",
    "\n",
    "\n",
    "df =df[['Open','Close','H_PTC','PCT_change','High','Low']]\n",
    "\n",
    "print(df.head())"
   ]
  },
  {
   "cell_type": "code",
   "execution_count": null,
   "metadata": {},
   "outputs": [],
   "source": []
  },
  {
   "cell_type": "code",
   "execution_count": null,
   "metadata": {},
   "outputs": [],
   "source": []
  }
 ],
 "metadata": {
  "kernelspec": {
   "display_name": "Python 3",
   "language": "python",
   "name": "python3"
  },
  "language_info": {
   "codemirror_mode": {
    "name": "ipython",
    "version": 3
   },
   "file_extension": ".py",
   "mimetype": "text/x-python",
   "name": "python",
   "nbconvert_exporter": "python",
   "pygments_lexer": "ipython3",
   "version": "3.7.3"
  }
 },
 "nbformat": 4,
 "nbformat_minor": 2
}
